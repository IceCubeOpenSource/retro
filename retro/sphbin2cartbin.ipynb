{
 "cells": [
  {
   "cell_type": "code",
   "execution_count": null,
   "metadata": {
    "collapsed": true
   },
   "outputs": [],
   "source": [
    "%autoreload 2\n",
    "%load_ext Cython"
   ]
  },
  {
   "cell_type": "code",
   "execution_count": null,
   "metadata": {
    "collapsed": false
   },
   "outputs": [],
   "source": [
    "from collections import OrderedDict\n",
    "import cPickle as pickle\n",
    "import os\n",
    "from os.path import abspath, dirname\n",
    "\n",
    "os.sys.path.append(dirname(dirname(abspath('__file__'))))\n",
    "from retro import (powerspace, spherical_volume, extract_photon_info,\n",
    "                   shift_and_bin, sphbin2cartbin, pol2cart, sph2cart)\n",
    "from retro.shift_and_bin import shift_and_bin\n",
    "from retro.sphbin2cartbin import sphbin2cartbin"
   ]
  },
  {
   "cell_type": "code",
   "execution_count": null,
   "metadata": {
    "collapsed": true,
    "scrolled": true
   },
   "outputs": [],
   "source": [
    "r_max = 400\n",
    "r_power = 2\n",
    "n_rbins = 200\n",
    "n_thetabins = 40\n",
    "n_phibins = 80\n",
    "\n",
    "r_edges = powerspace(0, r_max, n_rbins + 1, r_power)\n",
    "theta_edges = np.arccos(np.linspace(1, -1, n_thetabins + 1))\n",
    "\n",
    "R, THETA = np.meshgrid(r_edges, theta_edges, indexing='ij')\n",
    "coords = []\n",
    "exact_vols = []\n",
    "for ri in range(n_rbins):\n",
    "    subcoords = []\n",
    "    sub_exact_vols = []\n",
    "    for ti in range(int(np.ceil(n_thetabins / 2.0))):\n",
    "        rs = R[ri:ri+2, ti:ti+2]\n",
    "        ts = THETA[ri:ri+2, ti:ti+2]\n",
    "        bin_corner_coords = zip(rs.flat, ts.flat)\n",
    "        dcostheta = np.abs(np.diff(np.cos([ts.max(), ts.min()])))\n",
    "        exact_vol = spherical_volume(rmin=rs.max(), rmax=rs.min(), dcostheta=dcostheta, dphi=np.pi/2)\n",
    "        sub_exact_vols.append(exact_vol)\n",
    "    exact_vols.append(sub_exact_vols)\n",
    "exact_vols = np.array(exact_vols)"
   ]
  },
  {
   "cell_type": "code",
   "execution_count": null,
   "metadata": {
    "collapsed": false,
    "scrolled": true
   },
   "outputs": [],
   "source": [
    "%%time\n",
    "\n",
    "x_bw = y_bw = z_bw = 5\n",
    "x_oversample = y_oversample = z_oversample = 2\n",
    "\n",
    "kwargs = dict(\n",
    "    r_max=r_max, r_power=r_power,\n",
    "    n_rbins=n_rbins, n_thetabins=n_thetabins, n_phibins=n_phibins,\n",
    "    x_bw=x_bw, y_bw=y_bw, z_bw=z_bw,\n",
    "    x_oversample=x_oversample, y_oversample=y_oversample, z_oversample=z_oversample,\n",
    "    antialias_factor=1\n",
    ")\n",
    "ind_arrays, vol_arrays = sphbin2cartbin(**kwargs)"
   ]
  },
  {
   "cell_type": "code",
   "execution_count": null,
   "metadata": {
    "collapsed": false
   },
   "outputs": [],
   "source": [
    "%%time\n",
    "\n",
    "dump_data = OrderedDict([('kwargs', kwargs), ('ind_arrays', ind_arrays), ('vol_arrays', vol_arrays)])\n",
    "fname = (\n",
    "    'sphbin2cartbin_first_octant_mapping'\n",
    "    '_nr{n_rbins:d}_ntheta{n_thetabins:d}_nphi{n_phibins:d}'\n",
    "    '_rmax{r_max:f}_rpwr{r_power}'\n",
    "    '_xbw{x_bw:f}_ybw{y_bw:f}_zbw{z_bw:f}'\n",
    "    '_xos{x_oversample:d}_yos{y_oversample:d}_zos{z_oversample:d}'\n",
    "    '_aa{antialias_factor:d}'\n",
    "    '.pkl'.format(**kwargs)\n",
    ")\n",
    "pickle.dump(dump_data, file(fname, 'wb'), protocol=pickle.HIGHEST_PROTOCOL)\n",
    "\n",
    "!ls -hl {fname}"
   ]
  },
  {
   "cell_type": "code",
   "execution_count": null,
   "metadata": {
    "collapsed": false,
    "scrolled": true
   },
   "outputs": [],
   "source": [
    "binned_vol = np.sum([va.sum() for va in vol_arrays])\n",
    "exact_vol = spherical_volume(rmin=0, rmax=r_max, dcostheta=-1, dphi=np.pi/2)\n",
    "print 'exact vol = %f, binned vol = %f (%e fract error)' % (exact_vol, binned_vol, (binned_vol-exact_vol)/exact_vol)"
   ]
  },
  {
   "cell_type": "code",
   "execution_count": null,
   "metadata": {
    "collapsed": false
   },
   "outputs": [],
   "source": [
    "ind_bin_vols = np.array([va.sum() for va in vol_arrays])\n",
    "fract_err = ind_bin_vols/exact_vols.flat - 1\n",
    "abs_fract_err = np.abs(fract_err)\n",
    "worst_abs_fract_err = np.max(abs_fract_err)\n",
    "flat_idx = np.where(abs_fract_err == worst_abs_fract_err)[0][0]\n",
    "r_idx, theta_idx = divmod(flat_idx, int(np.ceil(n_thetabins/2)))\n",
    "print ('worst single-bin fract err: %e; r_idx=%d, theta_idx=%d; binned vol=%e, exact vol=%e'\n",
    "       % (worst_abs_fract_err, r_idx, theta_idx, ind_bin_vols[flat_idx], exact_vols[r_idx, theta_idx]))"
   ]
  },
  {
   "cell_type": "code",
   "execution_count": null,
   "metadata": {
    "collapsed": false
   },
   "outputs": [],
   "source": [
    "%%time\n",
    "\n",
    "dom_depth_index = 49\n",
    "\n",
    "geom = np.load('/home/justin/src/retro/retro/data/geo_array.npy')\n",
    "dom_coords = geom[35, dom_depth_index:dom_depth_index+1, :]\n",
    "dom_coords *= 0\n",
    "\n",
    "tables_dir = '/data/icecube/retro_tables/full1000'\n",
    "tables_dir = '/home/justin/src/retro/retro/data/tables'\n",
    "\n",
    "photon_info, bin_edges = extract_photon_info(\n",
    "    fpath=tables_dir + '/retro_nevts1000_IC_DOM%d_r_cz_t_angles.fits' % dom_depth_index,\n",
    "    dom_depth_index=dom_depth_index\n",
    ")\n",
    "#px = np.empty_like(photon_info.length)\n",
    "#pz = np.empty_like(photon_info.length)\n",
    "#pz = np.empty_like(photon_info.length)\n",
    "#sph2cart(r=photon_info.length * np.cos(photon_info.deltaphi), theta="
   ]
  },
  {
   "cell_type": "code",
   "execution_count": null,
   "metadata": {
    "collapsed": false
   },
   "outputs": [],
   "source": [
    "%%time\n",
    "\n",
    "xlims = (-500, 500)\n",
    "ylims = (-600, 600)\n",
    "zlims = (-600, 600)\n",
    "\n",
    "nx = int((xlims[1] - xlims[0]) / x_bw)\n",
    "ny = int((ylims[1] - ylims[0]) / y_bw)\n",
    "nz = int((zlims[1] - zlims[0]) / z_bw)\n",
    "\n",
    "shape = (nx, ny, nz)\n",
    "\n",
    "sp = photon_info.survival_prob[dom_depth_index]\n",
    "plength = photon_info.length[dom_depth_index]\n",
    "ptheta = photon_info.theta[dom_depth_index]\n",
    "pdeltaphi = photon_info.deltaphi[dom_depth_index]\n",
    "\n",
    "plength *= np.cos(pdeltaphi)\n",
    "pz = plength * np.cos(ptheta)\n",
    "prho = plength * np.sin(ptheta)\n",
    "\n",
    "t_slice = [slice(0, 100), slice(None), slice(None)]\n",
    "\n",
    "t_indep_sp = 1 - np.prod(1 - sp[t_slice], axis=0)\n",
    "\n",
    "mask = t_indep_sp != 0\n",
    "scale = 1 / sp.sum(axis=0)[mask]\n",
    "\n",
    "t_indep_pz = np.zeros_like(t_indep_sp)\n",
    "t_indep_prho = np.zeros_like(t_indep_sp)\n",
    "\n",
    "t_indep_pz[mask] = (pz[t_slice] * sp[t_slice]).sum(axis=0)[mask] * scale\n",
    "t_indep_prho[mask] = (prho[t_slice] * sp[t_slice]).sum(axis=0)[mask] * scale"
   ]
  },
  {
   "cell_type": "code",
   "execution_count": null,
   "metadata": {
    "collapsed": false
   },
   "outputs": [],
   "source": [
    "print sp.shape\n",
    "prho[t_slice].max()"
   ]
  },
  {
   "cell_type": "code",
   "execution_count": null,
   "metadata": {
    "collapsed": false
   },
   "outputs": [],
   "source": [
    "%%time\n",
    "\n",
    "binned_spv = np.zeros((shape), dtype=np.float64)\n",
    "binned_px_spv = np.zeros((shape), dtype=np.float64)\n",
    "binned_py_spv = np.zeros((shape), dtype=np.float64)\n",
    "binned_pz_spv = np.zeros((shape), dtype=np.float64)\n",
    "binned_one_minus_sp = np.ones((shape), dtype=np.float64)\n",
    "\n",
    "shift_and_bin(\n",
    "    ind_arrays,\n",
    "    vol_arrays,\n",
    "    dom_coords,\n",
    "    t_indep_sp,\n",
    "    t_indep_prho,\n",
    "    t_indep_pz,\n",
    "    n_rbins,\n",
    "    n_thetabins,\n",
    "    binned_spv,\n",
    "    binned_px_spv,\n",
    "    binned_py_spv,\n",
    "    binned_pz_spv,\n",
    "    binned_one_minus_sp,\n",
    "    nx,\n",
    "    ny,\n",
    "    nz,\n",
    "    xlims[0],\n",
    "    ylims[0],\n",
    "    zlims[0],\n",
    "    x_bw,\n",
    "    y_bw,\n",
    "    z_bw,\n",
    "    x_oversample,\n",
    "    y_oversample,\n",
    "    z_oversample\n",
    ")"
   ]
  },
  {
   "cell_type": "code",
   "execution_count": null,
   "metadata": {
    "collapsed": false
   },
   "outputs": [],
   "source": [
    "%%time\n",
    "\n",
    "mask = binned_spv != 0\n",
    "inv_spv = np.zeros_like(binned_spv)\n",
    "inv_spv[mask] = 1 / binned_spv[mask]\n",
    "binned_px = binned_px_spv * inv_spv\n",
    "binned_py = binned_py_spv * inv_spv\n",
    "binned_pz = binned_pz_spv * inv_spv\n",
    "binned_sp = 1 - binned_one_minus_sp"
   ]
  },
  {
   "cell_type": "code",
   "execution_count": null,
   "metadata": {
    "collapsed": false
   },
   "outputs": [],
   "source": [
    "%pylab inline"
   ]
  },
  {
   "cell_type": "code",
   "execution_count": null,
   "metadata": {
    "collapsed": false
   },
   "outputs": [],
   "source": [
    "binned_one_minus_sp.shape"
   ]
  },
  {
   "cell_type": "code",
   "execution_count": null,
   "metadata": {
    "collapsed": false
   },
   "outputs": [],
   "source": [
    "mid_x = int(nx/2-1)\n",
    "mid_y = int(ny/2-1)\n",
    "mid_z = int(nz/2-1)\n",
    "\n",
    "fig = plt.figure(1, figsize=(10, 10), dpi=120)\n",
    "fig.clf()\n",
    "ax1 = fig.add_subplot(221)\n",
    "ax1.pcolor(binned_sp[mid_x, :, :].T, cmap='viridis')\n",
    "ax2 = fig.add_subplot(222)\n",
    "ax2.pcolor(binned_sp[:, mid_y, :].T, cmap='viridis')\n",
    "ax3 = fig.add_subplot(223)\n",
    "ax3.pcolor(binned_sp[:, :, mid_z], cmap='viridis')\n",
    "for ax in [ax1, ax2, ax3]:\n",
    "    ax.axis('image')\n",
    "fig.suptitle('Survival probability planar slices through DOM')\n",
    "fig.tight_layout(rect=(0, 0, 1, 0.96))\n",
    "pass"
   ]
  },
  {
   "cell_type": "code",
   "execution_count": null,
   "metadata": {
    "collapsed": false
   },
   "outputs": [],
   "source": [
    "fig = plt.figure(1, figsize=(10, 10), dpi=120)\n",
    "fig.clf()\n",
    "ax1 = fig.add_subplot(221)\n",
    "ax1.pcolor((1 - binned_one_minus_sp.prod(axis=0)).T, cmap='viridis')\n",
    "ax2 = fig.add_subplot(222)\n",
    "ax2.pcolor((1 - binned_one_minus_sp.prod(axis=1)).T, cmap='viridis')\n",
    "ax3 = fig.add_subplot(223)\n",
    "ax3.pcolor((1 - binned_one_minus_sp.prod(axis=2)), cmap='viridis')\n",
    "for ax in [ax1, ax2, ax3]:\n",
    "    ax.axis('image')\n",
    "fig.suptitle('Survival probability aggregated along each axis')\n",
    "fig.tight_layout(rect=(0, 0, 1, 0.96))"
   ]
  },
  {
   "cell_type": "code",
   "execution_count": null,
   "metadata": {
    "collapsed": false
   },
   "outputs": [],
   "source": [
    "%pylab inline\n",
    "from mpl_toolkits.mplot3d import Axes3D"
   ]
  },
  {
   "cell_type": "code",
   "execution_count": null,
   "metadata": {
    "collapsed": false
   },
   "outputs": [],
   "source": [
    "print 'n_rbins:', n_rbins, 'n_thetabins:', n_thetabins\n",
    "print 'tot bins:', n_rbins * n_thetabins, 'len(ind_arrays):', len(ind_arrays)\n",
    "r_idx = 100\n",
    "theta_idx = 10\n",
    "n_thetabins_in_quad = int(np.ceil(float(n_thetabins) / 2.0))\n",
    "flat_idx = theta_idx + n_thetabins_in_quad * r_idx\n",
    "#flat_idx = theta_idx + r_idx * n_thetabins\n",
    "#flat_idx =18 \n",
    "ind_array = ind_arrays[flat_idx]\n",
    "print(ind_array.shape[0])\n",
    "\n",
    "fig = plt.figure(1, figsize=(10, 10))\n",
    "fig.clf()\n",
    "ax = fig.add_subplot(221, projection='3d')\n",
    "ax.set_xlabel('x')\n",
    "ax.set_ylabel('y')\n",
    "ax.set_zlabel('z')\n",
    "ax.set_xlim(0, xlims[1])\n",
    "ax.set_ylim(0, ylims[1])\n",
    "ax.set_zlim(0, zlims[1])\n",
    "ax.grid(True)\n",
    "#ax.axis('square')\n",
    "ax.plot((ind_array[:,0] + 1/2/x_oversample)*x_bw,\n",
    "        (ind_array[:,1] + 1/2/y_oversample)*y_bw,\n",
    "        (ind_array[:,2] + 1/2/z_oversample)*z_bw,\n",
    "        alpha=0.5, marker='o', ms=1, c='r', linestyle='none')\n",
    "pass"
   ]
  }
 ],
 "metadata": {
  "kernelspec": {
   "display_name": "Python 2",
   "language": "python",
   "name": "python2"
  },
  "language_info": {
   "codemirror_mode": {
    "name": "ipython",
    "version": 2
   },
   "file_extension": ".py",
   "mimetype": "text/x-python",
   "name": "python",
   "nbconvert_exporter": "python",
   "pygments_lexer": "ipython2",
   "version": "2.7.11"
  }
 },
 "nbformat": 4,
 "nbformat_minor": 1
}
