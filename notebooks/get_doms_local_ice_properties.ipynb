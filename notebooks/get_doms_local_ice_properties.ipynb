{
 "cells": [
  {
   "cell_type": "code",
   "execution_count": 1,
   "metadata": {},
   "outputs": [],
   "source": [
    "%matplotlib inline"
   ]
  },
  {
   "cell_type": "code",
   "execution_count": 2,
   "metadata": {},
   "outputs": [],
   "source": [
    "from itertools import product\n",
    "from os.path import *\n",
    "from os import *\n",
    "import cPickle as pickle\n",
    "import sys"
   ]
  },
  {
   "cell_type": "code",
   "execution_count": 3,
   "metadata": {},
   "outputs": [],
   "source": [
    "import matplotlib as mpl\n",
    "import matplotlib.pyplot as plt"
   ]
  },
  {
   "cell_type": "code",
   "execution_count": 4,
   "metadata": {},
   "outputs": [],
   "source": [
    "from icecube.dataclasses import *\n",
    "from icecube import *\n",
    "from icecube.icetray import *"
   ]
  },
  {
   "cell_type": "code",
   "execution_count": 5,
   "metadata": {},
   "outputs": [],
   "source": [
    "from icecube.clsim import MakeIceCubeMediumProperties"
   ]
  },
  {
   "cell_type": "code",
   "execution_count": 6,
   "metadata": {},
   "outputs": [],
   "source": [
    "from plotGoodies import removeBorder"
   ]
  },
  {
   "cell_type": "code",
   "execution_count": 7,
   "metadata": {},
   "outputs": [
    {
     "name": "stdout",
     "output_type": "stream",
     "text": [
      "/home/justin/src/retro/notebooks\n"
     ]
    }
   ],
   "source": [
    "!pwd"
   ]
  },
  {
   "cell_type": "code",
   "execution_count": 8,
   "metadata": {},
   "outputs": [],
   "source": [
    "sys.path.append(expandvars('$I3_SRC/clsim/python/util'))\n",
    "sys.path.append(abspath('..'))\n",
    "\n",
    "from GetIceTiltZShift import GetIceTiltZShift, I3CLSimScalarFieldIceTiltZShift\n",
    "from retro.const import get_sd_idx\n",
    "from retro.utils.geom import powerspace"
   ]
  },
  {
   "cell_type": "code",
   "execution_count": 10,
   "metadata": {},
   "outputs": [],
   "source": [
    "gcd = pickle.load(file('../data/GeoCalibDetectorStatus_IC86.55697_corrected_V2.pkl', 'rb'))\n",
    "geo = gcd['geo']"
   ]
  },
  {
   "cell_type": "markdown",
   "metadata": {},
   "source": [
    "See `ice_layer_properties_validation.ipynb` for validation that I'm computing layer indices using the CLSim tool correctly."
   ]
  },
  {
   "cell_type": "code",
   "execution_count": 19,
   "metadata": {},
   "outputs": [],
   "source": [
    "ice_model = 'spice_lea'"
   ]
  },
  {
   "cell_type": "code",
   "execution_count": 20,
   "metadata": {},
   "outputs": [
    {
     "data": {
      "text/plain": [
       "{'anisotropyDirAzimuth': 3.7699111843077517,\n",
       " 'anisotropyMagnitudeAlongDir': 0.04,\n",
       " 'anisotropyMagnitudePerpToDir': -0.08}"
      ]
     },
     "execution_count": 20,
     "metadata": {},
     "output_type": "execute_result"
    }
   ],
   "source": [
    "ice_props, ice_params = MakeIceCubeMediumProperties(\n",
    "    detectorCenterDepth=1948.07*I3Units.m,\n",
    "    iceDataDirectory=expandvars('$I3_SRC/ice-models/resources/models/' + ice_model),\n",
    "    useTiltIfAvailable=True,\n",
    "    returnParameters=True\n",
    ")\n",
    "ice_params"
   ]
  },
  {
   "cell_type": "code",
   "execution_count": 21,
   "metadata": {},
   "outputs": [
    {
     "name": "stdout",
     "output_type": "stream",
     "text": [
      "# ppc configuration file: follow strict order below\n",
      "5     # over-R: DOM radius \"oversize\" scaling factor\n",
      "1.0   # overall DOM efficiency correction\n",
      "0.41  # 0=HG; 1=SAM\n",
      "0.9   # g=<cos(theta)>\n",
      "\n",
      "216   # direction of ice tilt (perp. to flow)\n",
      "0.04  # magnitude of ice anisotropy along tilt\n",
      "-0.08 # magnitude of ice anisotropy along flow\n"
     ]
    }
   ],
   "source": [
    "!cat /cvmfs/icecube.opensciencegrid.org/py2-v3/Ubuntu_16.04_x86_64/metaprojects/combo/stable/ice-models/resources/models/$ice_model/cfg.txt"
   ]
  },
  {
   "cell_type": "code",
   "execution_count": 22,
   "metadata": {},
   "outputs": [
    {
     "name": "stdout",
     "output_type": "stream",
     "text": [
      "cfg.txt shape: (7,)\n",
      "mean_cos_scattering_theta: 0.9\n",
      "icemodel.par shape: (4, 2)\n",
      "alpha=0.898608505726, kappa=1.08410680294, A=6954.09033203, B=6617.75439453\n",
      "icemodel.dat shape: (171, 4)\n"
     ]
    }
   ],
   "source": [
    "rootdir = (\n",
    "    '/cvmfs/icecube.opensciencegrid.org/py2-v3/Ubuntu_16.04_x86_64/'\n",
    "    'metaprojects/combo/stable/ice-models/resources/models/{}'\n",
    ").format(ice_model)\n",
    "\n",
    "cfg = np.loadtxt(join(rootdir, 'cfg.txt'))\n",
    "print 'cfg.txt shape:', cfg.shape\n",
    "\n",
    "oversize_scaling = cfg[0]\n",
    "efficiency_correction = cfg[1]\n",
    "liu_scattering_fraction = cfg[2]\n",
    "mean_cos_scattering_theta = cfg[3]\n",
    "\n",
    "print 'mean_cos_scattering_theta:', mean_cos_scattering_theta\n",
    "\n",
    "icemodel_par = np.loadtxt(join(rootdir, 'icemodel.par'))\n",
    "print 'icemodel.par shape:', icemodel_par.shape\n",
    "if False: #ice_model == 'spice_mie':\n",
    "    assert icemodel_par.shape[0] == 6\n",
    "    alpha, kappa, A, B, D, E = icemodel_par[:, 0].T\n",
    "    print 'alpha={}, kappa={}, A={}, B={}, D={}, E={}'.format(alpha, kappa, A, B, D, E)\n",
    "else: # ice_model == 'spice_lea':\n",
    "    #assert icemodel_par.shape[0] == 4\n",
    "    alpha, kappa, A, B = icemodel_par[:, 0].T[:4]\n",
    "    print 'alpha={}, kappa={}, A={}, B={}'.format(alpha, kappa, A, B)\n",
    "#else:\n",
    "#    raise ValueError(ice_model)\n",
    "    \n",
    "icemodel = np.loadtxt(join(rootdir, 'icemodel.dat'))\n",
    "print 'icemodel.dat shape:', icemodel.shape\n",
    "\n",
    "# first column: z layer *depth* midpoints\n",
    "zlayermidpts = icemodel[:, 0]\n",
    "# second column: b_e(400) values\n",
    "be400 = icemodel[:, 1]\n",
    "# third column: adust(400) values\n",
    "adust400 = icemodel[:, 2]\n",
    "# fourth column: delta_tau values\n",
    "delta_tau = icemodel[:, 3]"
   ]
  },
  {
   "cell_type": "code",
   "execution_count": 23,
   "metadata": {},
   "outputs": [
    {
     "name": "stdout",
     "output_type": "stream",
     "text": [
      "CPU times: user 22.2 s, sys: 360 ms, total: 22.6 s\n",
      "Wall time: 22.3 s\n"
     ]
    }
   ],
   "source": [
    "%%time\n",
    "\n",
    "wavelen = 555e-9 * I3Units.m\n",
    "n_strings = 86\n",
    "n_doms_per_string = 60\n",
    "n_doms = 86 * 60\n",
    "z0 = ice_props.GetLayersZStart()\n",
    "dz = ice_props.GetLayersHeight()\n",
    "zshift = ice_props.GetIceTiltZShift()\n",
    "\n",
    "properties = [None]*n_doms\n",
    "for s_idx, d_idx in product(range(n_strings), range(n_doms_per_string)):\n",
    "    string = s_idx + 1\n",
    "    dom = d_idx + 1\n",
    "    sd_idx = get_sd_idx(string=string, dom=dom)\n",
    "    x, y, z = geo[s_idx, d_idx]\n",
    "    sl = []\n",
    "    al = []\n",
    "    for r, costheta, phi in product(\n",
    "            powerspace(0.1, 200, 5, 5),\n",
    "            np.linspace(np.cos(np.pi), np.cos(0), 9),\n",
    "            np.arange(0, 2*np.pi, np.pi/4)\n",
    "        ):\n",
    "        sintheta = np.sin(np.arccos(costheta))\n",
    "        z_ = z + r * costheta\n",
    "        x_ = x + r * sintheta * np.cos(phi)\n",
    "        y_ = y + r * sintheta * np.sin(phi)\n",
    "\n",
    "        # Original sign convention: z + zshift - z0; this has now been\n",
    "        # verified by comparing against a \"manual\" calculation of the\n",
    "        # ice scattering length.\n",
    "        layer_num = int((z_ - z0 + zshift.GetValue(x_, y_, z_)) / dz)\n",
    "        # Alternative sign convention\n",
    "        layer_num = int((z_ - z0 - zshift.GetValue(x_, y_, z_)) / dz)\n",
    "\n",
    "        al.append(ice_props.GetAbsorptionLength(layer_num).GetValue(wavelen))\n",
    "        sl.append(ice_props.GetScatteringLength(layer_num).GetValue(wavelen))\n",
    "\n",
    "    zequiv = z + zshift.GetValue(x, y, z)\n",
    "    layer_num = int((zequiv - z0) / dz)\n",
    "    properties[sd_idx] = (\n",
    "        [\n",
    "            x,\n",
    "            y,\n",
    "            z,\n",
    "            zequiv,\n",
    "            get_hc0_coord(x, y),\n",
    "            get_hc1_coord(x, y),\n",
    "            get_hc2_coord(x, y),\n",
    "            ice_props.GetAbsorptionLength(layer_num).GetValue(wavelen),\n",
    "            ice_props.GetScatteringLength(layer_num).GetValue(wavelen)\n",
    "        ]\n",
    "        + al\n",
    "        + sl\n",
    "    )\n",
    "properties = np.array(properties)"
   ]
  },
  {
   "cell_type": "code",
   "execution_count": 24,
   "metadata": {},
   "outputs": [],
   "source": [
    "np.save('../data/dom_clustering_properties_binned.npy', properties)"
   ]
  }
 ],
 "metadata": {
  "kernelspec": {
   "display_name": "Python 2",
   "language": "python",
   "name": "python2"
  },
  "language_info": {
   "codemirror_mode": {
    "name": "ipython",
    "version": 2
   },
   "file_extension": ".py",
   "mimetype": "text/x-python",
   "name": "python",
   "nbconvert_exporter": "python",
   "pygments_lexer": "ipython2",
   "version": "2.7.15"
  }
 },
 "nbformat": 4,
 "nbformat_minor": 2
}
